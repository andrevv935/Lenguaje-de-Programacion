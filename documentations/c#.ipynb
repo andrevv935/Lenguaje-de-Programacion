{
 "cells": [
  {
   "cell_type": "markdown",
   "id": "7329ca9c",
   "metadata": {},
   "source": [
    "<h1>C#</h1>"
   ]
  }
 ],
 "metadata": {
  "language_info": {
   "name": "python"
  }
 },
 "nbformat": 4,
 "nbformat_minor": 5
}
