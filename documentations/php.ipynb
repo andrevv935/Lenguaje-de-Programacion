{
 "cells": [
  {
   "cell_type": "markdown",
   "id": "fe18b681",
   "metadata": {},
   "source": [
    "<h1>PHP</h1>\n",
    "Es un lenguaje de programacion orientado a la programacion web enfocado en el desarrollo de backend<br>\n",
    "\n",
    "<h3>Como escribir codigo en PHP?</h3>\n",
    "Para escribir en PHP es necesario definir el texto dentro de las etiquetas <strong>< ?php? ></strong> (sin el espacio entre el texto y las flechas), todo el texto ubicado entre estas etiquetas es considerado como codigo PHP, al final de cada linea de codigo es importante cerrar el codigo con un punto y coma, de lo contrario se producira un error.<br>\n",
    "\n",
    "<h3>Primer hola mundo!</h3>\n",
    "Para imprimir un texto en php se usa la palabra <strong>echo</strong> seguido de un texto entre \"\". Un \"Hola Mundo!\" se veria de la siguiente manera:"
   ]
  },
  {
   "cell_type": "code",
   "execution_count": null,
   "id": "94fbabf4",
   "metadata": {
    "vscode": {
     "languageId": "php"
    }
   },
   "outputs": [],
   "source": [
    "<?php\n",
    "\n",
    "echo \"Hola Mundo!\";\n",
    "\n",
    "?>"
   ]
  },
  {
   "cell_type": "markdown",
   "id": "98869f49",
   "metadata": {},
   "source": [
    "<h3>Tipo de datos en PHP</h3>\n",
    "En php existen los siguientes tipos:<br>\n",
    "<strong>\n",
    "null<br>\n",
    "bool<br>\n",
    "int<br>\n",
    "float<br>\n",
    "string<br>\n",
    "array<br>\n",
    "object<br>\n",
    "callable<br>\n",
    "resource<br>\n",
    "</strong><br>\n",
    "Se puede validar el tipo de dato de la variable con los siguientes comandos:"
   ]
  },
  {
   "cell_type": "code",
   "execution_count": null,
   "id": "bb57a1ed",
   "metadata": {
    "vscode": {
     "languageId": "php"
    }
   },
   "outputs": [],
   "source": [
    "<?php\n",
    "\n",
    "var_dump(); //  muestra informacion sobre una variable\n",
    "\n",
    "get_debug_type(); // obtiene el tipo de dato de una variable\n",
    "\n",
    "?>"
   ]
  },
  {
   "cell_type": "markdown",
   "id": "b79570a1",
   "metadata": {},
   "source": [
    "<h3>Declaracion de variables</h3>\n",
    "Una variable en PHP es definida escribiendo <strong>$</strong> seguido del nombre de la variable, es recomendable declarar las variables que son de mas de una palabra con la primera palabra en minuscula y la primera letra de la segunda palabra en mayuscula."
   ]
  },
  {
   "cell_type": "code",
   "execution_count": null,
   "id": "e73966e2",
   "metadata": {
    "vscode": {
     "languageId": "php"
    }
   },
   "outputs": [],
   "source": [
    "<?php \n",
    "\n",
    "$holaMundo = \"Hola Mundo\";\n",
    "echo $holaMundo;\n",
    "\n",
    "$numero = 10;\n",
    "echo $numero;\n",
    "\n",
    "?>"
   ]
  },
  {
   "cell_type": "markdown",
   "id": "b9813509",
   "metadata": {},
   "source": [
    "<h3>Solicitudes al usuario</h3>\n",
    "Las solicitudes al usuario (inputs) no existen como tal en PHP, en cambio se realizan mediante solicitudes directas en el html mediante formularios utilizando funciones especiales como <strong>$_GET y $_POST</strong>."
   ]
  },
  {
   "cell_type": "code",
   "execution_count": null,
   "id": "9fd54706",
   "metadata": {
    "vscode": {
     "languageId": "php"
    }
   },
   "outputs": [],
   "source": [
    "<!DOCTYPE html>\n",
    "<html lang=\"en\">\n",
    "<head>\n",
    "    <meta charset=\"UTF-8\">\n",
    "    <meta name=\"viewport\" content=\"width=device-width, initial-scale=1.0\">\n",
    "    <title>Document</title>\n",
    "</head>\n",
    "<body>\n",
    "    <form action=\"process.php\" method=\"POST\">\n",
    "        Name: <input type=\"text\" name=\"username\"><br>\n",
    "        Email: <input type=\"email\" name=\"email\"><br>\n",
    "        <input type=\"submit\" value=\"Submit\">\n",
    "    </form>\n",
    "    <?php\n",
    "        $name = $_POST['username'];\n",
    "        $email = $_POST['email'];\n",
    "\n",
    "        echo\"Bienvenido, \".$name.\" tu email es: \".$email;\n",
    "    ?>\n",
    "</body>\n",
    "</html>"
   ]
  },
  {
   "cell_type": "markdown",
   "id": "36dc6d9e",
   "metadata": {},
   "source": [
    "Siempre es necesario validar la data de los inputs html para prevenir la maliciosa inyeccion de codigo, esto se hace de la siguiente forma:"
   ]
  },
  {
   "cell_type": "code",
   "execution_count": null,
   "id": "3041f7e0",
   "metadata": {
    "vscode": {
     "languageId": "php"
    }
   },
   "outputs": [],
   "source": [
    "<?php\n",
    "\n",
    "$safeName = htmlspecialchars($_POST['username']);\n",
    "$safeEmail = filter_var($_POST['email'], FILTER_SANITIZE_EMAIL);\n",
    "\n",
    "?>"
   ]
  },
  {
   "cell_type": "markdown",
   "id": "2e5f5acc",
   "metadata": {},
   "source": [
    "<h3>Operadores Aritmeticos</h3>\n",
    "PHP cuenta con los operadores aritmeticos basicos de:<br>\n",
    "<strong>\n",
    "Negacion<br>\n",
    "Suma<br>\n",
    "Resta<br>\n",
    "Multiplicacion<br>\n",
    "Division<br>\n",
    "Modulo<br>\n",
    "Exponentiacion\n",
    "</strong>"
   ]
  },
  {
   "cell_type": "code",
   "execution_count": null,
   "id": "a41511f9",
   "metadata": {
    "vscode": {
     "languageId": "php"
    }
   },
   "outputs": [],
   "source": [
    "<?php\n",
    "// Declaramos las variables para el ejemplo\n",
    "$numero1 = 5;\n",
    "$numero2 = 5;\n",
    "\n",
    "// Negamos el numero para volverlo negativo\n",
    "$negacion = -$numero1;\n",
    "echo $negacion;\n",
    "\n",
    "// Sumamos ambos numeros\n",
    "$suma = $numero1 + $numero2;\n",
    "echo $suma;\n",
    "\n",
    "// Restamos ambos numeros\n",
    "$resta = $numero1 - $numero2;\n",
    "echo $resta;\n",
    "\n",
    "// Multiplicamos ambos numeros\n",
    "$multiplicacion = $numero1 * $numero2;\n",
    "echo $multiplicacion;\n",
    "\n",
    "// Dividimos ambos numeros\n",
    "$division = $numero1 / $numero2;\n",
    "echo $division;\n",
    "\n",
    "// Obtenemos el modulo de ambos numeros\n",
    "$modulo = $numero1 % $numero2;\n",
    "echo $modulo;\n",
    "\n",
    "// Sacamos el exponente del primer numero elevandolo al valor del segundo\n",
    "$exponente = $numero1 ** $numero2;\n",
    "echo $exponente;\n",
    "\n",
    "?>"
   ]
  },
  {
   "cell_type": "markdown",
   "id": "2c689565",
   "metadata": {},
   "source": [
    "<h3>Arrays</h3>\n",
    "Los arreglos en PHP son en realidad mapas ordenados, lo que significa que tienen diferentes usos, como listas(vectores), hash table, diccionarios, colecciones, stacks, queue y mas"
   ]
  },
  {
   "cell_type": "code",
   "execution_count": null,
   "id": "f978b23e",
   "metadata": {
    "vscode": {
     "languageId": "php"
    }
   },
   "outputs": [],
   "source": [
    "<?php\n",
    "\n",
    "array(1, 2, 3, 4, 5); // arreglo indexado\n",
    "\n",
    "array(\n",
    "    \"valor1\" => 1,\n",
    "    \"valor2\" => 2,\n",
    "); // arreglo asociativo\n",
    "\n",
    "//Tambien se puede escribir un array de una manera mas sencilla\n",
    "$arreglo1 = [1, 2, 3, 4, 5];\n",
    "\n",
    "?>"
   ]
  },
  {
   "cell_type": "markdown",
   "id": "a4cc72a1",
   "metadata": {},
   "source": [
    "Para asignar un nuevo valor a un arreglo se asigna indicando el valor a la llave deseada. Para eliminar el valor de una clave se llama a la funcion <strong>unset()</strong>"
   ]
  },
  {
   "cell_type": "code",
   "execution_count": null,
   "id": "d6373332",
   "metadata": {
    "vscode": {
     "languageId": "php"
    }
   },
   "outputs": [],
   "source": [
    "<?php\n",
    "\n",
    "// Asignar un valor a un arreglo ya definido\n",
    "$array = [\n",
    "    \"clave1\" => \"valor1\",\n",
    "    \"clave2\" => \"valor2\",\n",
    "];\n",
    "\n",
    "$array = [\"clave3\" => \"valor3\"];\n",
    "\n",
    "// Eliminar un valor de un arreglo\n",
    "unset($array[\"clave2\"]);\n",
    "\n",
    "?>"
   ]
  },
  {
   "cell_type": "markdown",
   "id": "9fe16f18",
   "metadata": {},
   "source": [
    "<h3>Condicionales</h3>\n",
    "Las condicionales se aseguran de que ocurra la condicion deseada entre entre una seleccion variada de opciones. Como de costumbre en PHP se utilizan las funciones:<br>\n",
    "<strong>\n",
    "if<br>\n",
    "else<br>\n",
    "else if/elseif<br>\n",
    "</strong><br>\n",
    "Adicionalmente de esas opciones basicas tambien existe la funcion <strong>switch/case</strong>"
   ]
  },
  {
   "cell_type": "code",
   "execution_count": null,
   "id": "8c77a3f1",
   "metadata": {
    "vscode": {
     "languageId": "php"
    }
   },
   "outputs": [],
   "source": [
    "<?php\n",
    "\n",
    "$nota = 7.8;\n",
    "if ($nota < 6.9){\n",
    "    echo\"Reprobado\";\n",
    "} elseif ($nota >= 7 || $nota <= 9.9){\n",
    "    echo\"Aprobado\";\n",
    "} else {\n",
    "    echo\"Felicidades, sacaste la nota maxima\";\n",
    "}\n",
    "\n",
    "// Ejemplo switch/case\n",
    "$opcion = 2;\n",
    "switch ($opcion) {\n",
    "    case 1:\n",
    "        echo\"Opcion 1 seleccionada\";\n",
    "        break;\n",
    "    case 2:\n",
    "        echo\"Opcion 2 seleccionada\";\n",
    "        break;\n",
    "    case 3:\n",
    "        echo\"Opcion 3 seleccionada\";\n",
    "        break;\n",
    "}\n",
    "\n",
    "?>"
   ]
  },
  {
   "cell_type": "markdown",
   "id": "3aaa7d7e",
   "metadata": {},
   "source": [
    "<h3>Bucles</h3>\n",
    "Los bucles son ciclos que se repiten una y otra vez mientras se cumpla la condicion asignada o hasta que se cumpla alguna otra condicion que rompa el ciclo. Existen los siguientes bucles en php:<br><br>\n",
    "<strong>while<br></strong>\n",
    "El bucle while se repetira indefinidamente hasta que se cumpla la condicion, esta sera revisada al inicio de cada iteracion.<br>\n",
    "\n",
    "<strong>do-while<br></strong>\n",
    "El bucle do-while es similar, las cadenas de codigo se ubican dentro de las llaves asignadas al <strong>do</strong>, al cerrar las llaves estas son seguidas de un <strong>while</strong>, esto es debido a que contrario al bucle while, el do-while valida la condicion al final de cada iteracion.<br>\n",
    "\n",
    "<strong>for<br></strong>\n",
    "El bucle for a diferencia del bucle while, se utiliza cuando se tiene un mejor conocimiento de la cantidad de veces que se desea repetir el bucle o cuando se desea iterar o agregar valores a un arreglo<br>\n",
    "\n",
    "<strong>foreach<br></strong>\n",
    "Por ultimo el bucle foreach es una manera aun mas sencilla de iterar sobre arreglos y objetos"
   ]
  },
  {
   "cell_type": "code",
   "execution_count": null,
   "id": "8eff22f2",
   "metadata": {
    "vscode": {
     "languageId": "php"
    }
   },
   "outputs": [],
   "source": [
    "<?php\n",
    "// Ejemplo while\n",
    "$contador1 = 0;\n",
    "echo\"Ejemplo while: <br>\";\n",
    "while ($contador1 < 10){\n",
    "    echo\"\".$contador1.\"<br>\";\n",
    "    $contador1++;\n",
    "}\n",
    "\n",
    "// Ejemplo do-while\n",
    "$contador2 = 0;\n",
    "echo \"Ejemplo do-while: <br>\";\n",
    "do{\n",
    "    if ($contador2 < 5){\n",
    "        echo\"La cantidad es menor a 5: \".$contador2;\n",
    "    } else {\n",
    "        echo\"La cantidad es mayor o igual a 5: \".$contador2;\n",
    "    }\n",
    "    echo\"<br>\";\n",
    "    $contador2++;\n",
    "} while($contador2 < 10);\n",
    "\n",
    "// Ejemplo for\n",
    "$contador3 = 0;\n",
    "echo \"Ejemplor for: <br>\";\n",
    "for ($i = 0; $i < 10; $i++){\n",
    "    echo\"El contador es: \".$contador3.\"<br>\";\n",
    "    $contador3++;\n",
    "}\n",
    "\n",
    "// Ejemplo foreach\n",
    "echo \"Ejemplo foreach: <br>\";\n",
    "$frutas = [\"Manzana\", \"Banana\", \"Cereza\"];\n",
    "foreach ($frutas as $fruta){\n",
    "    echo\"La fruta es: \".$fruta.\"<br>\";\n",
    "}\n",
    "?>"
   ]
  },
  {
   "cell_type": "markdown",
   "id": "e97820a5",
   "metadata": {},
   "source": [
    "<h3>Funciones</h3>\n",
    "Las funciones son utilizada universalmente en la mayoria de los lenguajes de programacion para eliminar la redundancia de codigo y facilitar el entendimiento del codigo"
   ]
  },
  {
   "cell_type": "code",
   "execution_count": null,
   "id": "165abbdf",
   "metadata": {
    "vscode": {
     "languageId": "php"
    }
   },
   "outputs": [],
   "source": [
    "<?php\n",
    "\n",
    "function suma($a, $b) {\n",
    "    return $a + $b;\n",
    "}\n",
    "\n",
    "$num1 = 5;\n",
    "$num2 = 10;\n",
    "$resultado = suma($num1, $num2);\n",
    "echo \"La suma de \".$num1.\" y \".$num2.\" es: \".$resultado;\n",
    "\n",
    "?>"
   ]
  },
  {
   "cell_type": "markdown",
   "id": "7ea22e4a",
   "metadata": {},
   "source": [
    "<h3>Clases y Objetos</h3>\n",
    "Las clases en PHP se definen con la funcion <strong>class</strong> seguido de un nombre para la clase. Las clases pueden contener sus propias constantes, variables (llamadas propiedades) y funciones (llamados metodos)."
   ]
  },
  {
   "cell_type": "code",
   "execution_count": null,
   "id": "43477e28",
   "metadata": {
    "vscode": {
     "languageId": "php"
    }
   },
   "outputs": [],
   "source": [
    "<?php\n",
    "\n",
    "class Persona {\n",
    "    public $nombre;\n",
    "    public $edad;\n",
    "    public $altura;\n",
    "    public $profesion;\n",
    "\n",
    "    public function __construct($nombre, $edad, $altura, $profesion){\n",
    "        $this->nombre = $nombre;\n",
    "        $this->edad = $edad;\n",
    "        $this->altura = $altura;\n",
    "        $this->profesion = $profesion;\n",
    "    }\n",
    "\n",
    "    public function mostrarPersona(){\n",
    "        echo\"Nombre: \".$this->nombre.\"<br>\";\n",
    "        echo\"Edad: \".$this->edad.\"<br>\";\n",
    "        echo\"Altura: \".$this->altura.\"<br>\";\n",
    "        echo\"Profesion: \".$this->profesion.\"<br>\";\n",
    "    }\n",
    "}\n",
    "\n",
    "$persona = new Persona(\"Andre\", 21, 1.76, \"Estudiante\");\n",
    "$persona->mostrarPersona();\n",
    "\n",
    "?>"
   ]
  },
  {
   "cell_type": "markdown",
   "id": "e46a2b5a",
   "metadata": {},
   "source": [
    "<h3>Enums</h3>\n",
    "Los enums son similares a las clases en sentido de que comparten su manera de definirlas, son utilizados para definir un nuevo tipo de estado, se pueden usar para sustituir los valores boleanos true y false"
   ]
  },
  {
   "cell_type": "code",
   "execution_count": null,
   "id": "070ec71f",
   "metadata": {
    "vscode": {
     "languageId": "php"
    }
   },
   "outputs": [],
   "source": [
    "<?php\n",
    "\n",
    "enum Estado {\n",
    "    case ACTIVO;\n",
    "    case INACTIVO;\n",
    "    case SUSPENDIDO;\n",
    "}\n",
    "\n",
    "$lista = [[\"Mercado\", \"Hacer compras\", Estado::ACTIVO], [\"Lavar ropa\", \"Lavar la ropa sucia de la semana\", Estado::INACTIVO]];\n",
    "foreach ($lista as $tarea) {\n",
    "    echo \"\".$tarea.\"<br>\";\n",
    "}\n",
    "\n",
    "?>"
   ]
  },
  {
   "cell_type": "markdown",
   "id": "893d34ca",
   "metadata": {},
   "source": [
    "<h3>Modularidad</h3>\n",
    "Sirve para dividir el codigo en diferentes archivos para facilitar el entendimiento, comprension y legitura del codigo. En PHP esto se logra mediante las funciones <strong>include, require</strong>"
   ]
  },
  {
   "cell_type": "code",
   "execution_count": null,
   "id": "8d132e49",
   "metadata": {
    "vscode": {
     "languageId": "php"
    }
   },
   "outputs": [],
   "source": [
    "<?php\n",
    "// En un archivo llamado funciones.php\n",
    "function saludar($nombre) {\n",
    "    return \"Hola, \" . $nombre . \"!\";\n",
    "}\n",
    "\n",
    "//En el archivo principal index.php\n",
    "include 'funciones.php';\n",
    "echo saludar('Andre');\n",
    "\n",
    "?>"
   ]
  }
 ],
 "metadata": {
  "language_info": {
   "name": "python"
  }
 },
 "nbformat": 4,
 "nbformat_minor": 5
}
