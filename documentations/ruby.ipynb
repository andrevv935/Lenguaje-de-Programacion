{
 "cells": [
  {
   "cell_type": "markdown",
   "id": "7d522868",
   "metadata": {},
   "source": [
    "<h1>Ruby</h1>"
   ]
  }
 ],
 "metadata": {
  "language_info": {
   "name": "python"
  }
 },
 "nbformat": 4,
 "nbformat_minor": 5
}
